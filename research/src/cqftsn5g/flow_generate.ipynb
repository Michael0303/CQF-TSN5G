{
 "cells": [
  {
   "cell_type": "code",
   "execution_count": null,
   "metadata": {},
   "outputs": [],
   "source": [
    "import random\n",
    "import json\n",
    "from cqftsn5g.modules.Models import Flow, Path\n",
    "def generate_flows(period_range, payload_range, priority_range, jitter_range, bandwidth_range, flow_type, path_range, numbers):\n",
    "    # random select period, payload, priority, jitter, bandwidth to generate numbers flows\n",
    "    flows = []\n",
    "    \n",
    "    for i in range(numbers):\n",
    "        period = random.choice(period_range)\n",
    "        payload = random.choice(payload_range)\n",
    "        priority = random.choice(priority_range)\n",
    "        jitter = random.choice([x for x in jitter_range if x < period])\n",
    "        bandwidth = random.choice(bandwidth_range)\n",
    "        latency = period\n",
    "        path = random.choice(path_range)\n",
    "\n",
    "        flows.append(Flow(period, payload, priority, latency, jitter, bandwidth, flow_type, path))\n",
    "\n",
    "    return flows\n",
    "    "
   ]
  },
  {
   "cell_type": "code",
   "execution_count": null,
   "metadata": {},
   "outputs": [],
   "source": [
    "period_range = [2000, 2500, 4000, 5000, 8000, 10000, 16000]\n",
    "payload_range = [50, 100, 250, 500]\n",
    "priority_range = [2, 3, 4]\n",
    "jitter_range = [500, 1000, 2000, 4000, 8000, 16000]\n",
    "\n",
    "path_range = [\"path1\", \"path2\", \"path3\"]\n",
    "\n",
    "\n",
    "tt_flows = generate_flows(period_range, payload_range, priority_range, jitter_range, [0], \"TT\", path_range, 10) "
   ]
  },
  {
   "cell_type": "code",
   "execution_count": null,
   "metadata": {},
   "outputs": [],
   "source": [
    "period_range = [10000, 16000, 20000, 32000]\n",
    "payload_range = [800, 1000, 1200, 1500]\n",
    "priority_range = [5, 6, 7]\n",
    "jitter_range = [4000, 5000, 10000]\n",
    "bandwidth_range = [5000, 10000, 12000, 15000, 20000] # KB/sec\n",
    "path_range = [\"path1\", \"path2\", \"path3\"]\n",
    "\n",
    "\n",
    "avb_flows = generate_flows(\n",
    "    period_range, payload_range, priority_range, jitter_range, bandwidth_range, \"AVB\", path_range, 10\n",
    ")\n"
   ]
  },
  {
   "cell_type": "code",
   "execution_count": null,
   "metadata": {},
   "outputs": [],
   "source": [
    "output = json.dump(tt_flows + avb_flows, open(\"flows.json\", \"w\"))"
   ]
  }
 ],
 "metadata": {
  "language_info": {
   "name": "python"
  }
 },
 "nbformat": 4,
 "nbformat_minor": 2
}
